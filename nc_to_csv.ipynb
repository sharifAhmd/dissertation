{
 "cells": [
  {
   "cell_type": "markdown",
   "metadata": {},
   "source": [
    "## DATA Source\n",
    "https://data.ngdc.noaa.gov/platforms/solar-space-observing-satellites/goes/goes16/l2/data/xrsf-l2-avg1m_science/"
   ]
  },
  {
   "cell_type": "code",
   "execution_count": null,
   "metadata": {},
   "outputs": [],
   "source": [
    "import os\n",
    "import pandas as pd\n",
    "from netCDF4 import Dataset\n",
    "\n",
    "def convert_nc_to_csv(nc_file):\n",
    "    # Read the NetCDF file\n",
    "    dataset = Dataset(nc_file)\n",
    "\n",
    "    # Get all variable names in the NetCDF file\n",
    "    variable_names = [\"time\",'xrsa_flux', 'xrsa_flux_observed', 'xrsa_flux_electrons', 'xrsb_flux', 'xrsb_flux_observed', 'xrsb_flux_electrons']\n",
    "    #variable_names = dataset.variables.keys()\n",
    "    print(variable_names)\n",
    "    # Create a DataFrame to store the data\n",
    "    df = pd.DataFrame()\n",
    "\n",
    "    # Iterate over each variable and extract the data\n",
    "    for variable_name in variable_names:\n",
    "        print(variable_name)\n",
    "        variable_data = dataset.variables[variable_name][:]\n",
    "        print(variable_data)\n",
    "        df[variable_name] = variable_data.flatten()\n",
    "\n",
    "    # Close the NetCDF file\n",
    "    dataset.close()\n",
    "\n",
    "    # Generate the CSV file path\n",
    "    csv_file = os.path.splitext(nc_file)[0] + \".csv\"\n",
    "\n",
    "    # Write the DataFrame to a CSV file\n",
    "    df.to_csv(csv_file, index=False)\n",
    "\n",
    "    print(f\"Conversion complete: {csv_file}\")\n",
    "\n",
    "# Directory containing the .nc files\n",
    "nc_directory = \"dn_xrsf-l2-avg1m_g17_s20180601_e20230110_v2-2-0.nc\"\n",
    "\n",
    "\n",
    "convert_nc_to_csv(nc_directory)\n"
   ]
  }
 ],
 "metadata": {
  "language_info": {
   "name": "python"
  }
 },
 "nbformat": 4,
 "nbformat_minor": 2
}
